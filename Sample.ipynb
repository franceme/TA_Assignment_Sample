{
 "cells": [
  {
   "cell_type": "markdown",
   "metadata": {
   	"trusted":true,
	"editable":false,
	"deletable":false
   },
   "source": [
    "# Introduction and setup"
   ]
  },
  {
   "cell_type": "markdown",
   "metadata": {
   	"trusted":true,
	"editable":false,
	"deletable":false
   },
   "source": [
    "This assignment uses a customized Java Jupyter Kernal based off of the repo [SpencerPark/IJava](https://github.com/SpencerPark/IJava).\n",
    "\n",
    "You may find the new and relevant magic commands listed below in the table.\n",
    "\n",
    "There will be examples of the magic commands you are to use for the assignment.\n",
    "\n",
    "_Please Note_: the Java Kernal is based on Java [JDK 11](https://openjdk.org/projects/jdk/11/), while the Java code written to be scanned must be based on [JDK 8](https://openjdk.org/projects/jdk8/).\n",
    "\n",
    "So any code being executed in the cells can use Java 11 features, however any Java code being scanned must be restricted to Java 8 features."
   ]
  },
  {
   "cell_type": "markdown",
   "metadata": {
   	"trusted":true,
	"editable":false,
	"deletable":false
   },
   "source": [
    "## Magic Methods"
   ]
  },
  {
   "cell_type": "markdown",
   "metadata": {
   	"trusted":true,
	"editable":false,
	"deletable":false
   },
   "source": [
    "> Note: the magic commands should not have any statement after it (including any semi-colons, parenthesis, etc...).\n",
    "\n",
    "Please find most of the magic commands described further [here](https://github.com/SpencerPark/IJava/blob/master/docs/magics.md).\n"
   ]
  },
  {
    "cell_type": "code",
    "execution_count": null,
   "metadata": {
   	"trusted":true,
	"editable":false,
	"deletable":false
   },
    "outputs": [],
    "source": [
      "//The raw html magic commands table.\n",
     "String table = \"<table style=\\\"border-collapse: collapse; border: medium; border-spacing: 0px;\\\">\t<tbody>\t\t<tr>\t\t\t<td style=\\\"border-width: 2px 1px 2px 2px; border-style: double solid double double; border-color: rgb(0, 0, 0); text-align: center; padding-right: 3pt; padding-left: 3pt;\\\">\t\t\t\t<b> Magic Command                 </b>\t\t\t<td style=\\\"border-width: 2px 1px; border-style: double solid; border-color: rgb(0, 0, 0); text-align: center; padding-right: 3pt; padding-left: 3pt;\\\">\t\t\t\t<b>Usage</b>\t\t\t<td style=\\\"border-width: 2px 1px; border-style: double solid; border-color: rgb(0, 0, 0); text-align: center; padding-right: 3pt; padding-left: 3pt;\\\">\t\t\t\t<b> Applies To  </b>\t\t\t<td style=\\\"border-width: 2px 1px; border-style: double solid; border-color: rgb(0, 0, 0); text-align: center; padding-right: 3pt; padding-left: 3pt;\\\">\t\t\t\t<b>Returns</b>\t\t\t<td style=\\\"border-width: 2px 2px 2px 1px; border-style: double double double solid; border-color: rgb(0, 0, 0); text-align: center; padding-right: 3pt; padding-left: 3pt;\\\">\t\t\t\t<b> Description                                                          </b>\t\t<tr>\t\t\t<td style=\\\"border-top: 2px double rgb(0, 0, 0); border-right: 1px solid rgb(0, 0, 0); text-align: right; padding-right: 3pt; padding-left: 3pt;\\\">\t\t\t\t%jars\t\t\t<td style=\\\"border-top: 2px double rgb(0, 0, 0); border-right: 1px solid rgb(0, 0, 0); border-left: 1px solid rgb(0, 0, 0); text-align: center; padding-right: 3pt; padding-left: 3pt;\\\">\t\t\t\t%jars &lt;REGEX&gt;\t\t\t\t<br>\t\t\t<td style=\\\"border-right: 1px solid rgb(0, 0, 0); border-left: 1px solid rgb(0, 0, 0); border-top: 2px double rgb(0, 0, 0); text-align: center; padding-right: 3pt; padding-left: 3pt;\\\">\t\t\t\tSingle Line\t\t\t<td style=\\\"border-top: 2px double rgb(0, 0, 0); border-right: 1px solid rgb(0, 0, 0); border-left: 1px solid rgb(0, 0, 0); text-align: center; padding-right: 3pt; padding-left: 3pt;\\\">\t\t\t<td style=\\\"border-top: 2px double rgb(0, 0, 0); border-left: 1px solid rgb(0, 0, 0); padding-right: 3pt; padding-left: 3pt;\\\">\t\t\t\tSpecifies the jars via local path to be loaded into the environment.\t\t<tr>\t\t\t<td style=\\\"border-right: 1px solid rgb(0, 0, 0); text-align: right; padding-right: 3pt; padding-left: 3pt;\\\">\t\t\t\t%%compile\t\t\t<td style=\\\"border-right: 1px solid rgb(0, 0, 0); border-left: 1px solid rgb(0, 0, 0); text-align: center; padding-right: 3pt; padding-left: 3pt;\\\">\t\t\t\t%%compile &lt;FILENAME&gt;<wbr>\t\t\t<td style=\\\"border-right: 1px solid rgb(0, 0, 0); border-left: 1px solid rgb(0, 0, 0); text-align: center; padding-right: 3pt; padding-left: 3pt;\\\">\t\t\t\tWhole Cell\t\t\t<td style=\\\"border-right: 1px solid rgb(0, 0, 0); border-left: 1px solid rgb(0, 0, 0); text-align: center; padding-right: 3pt; padding-left: 3pt;\\\">\t\t\t<td style=\\\"border-left: 1px solid rgb(0, 0, 0); padding-right: 3pt; padding-left: 3pt;\\\">\t\t\t\tSaves and compiles the entirety of the cell contents as a java file.\t\t<tr>\t\t\t<td style=\\\"border-right: 1px solid rgb(0, 0, 0); text-align: right; padding-right: 3pt; padding-left: 3pt;\\\">\t\t\t\t%%execute\t\t\t<td style=\\\"border-right: 1px solid rgb(0, 0, 0); border-left: 1px solid rgb(0, 0, 0); text-align: center; padding-right: 3pt; padding-left: 3pt;\\\">\t\t\t\t%%compile &lt;FILENAME&gt;\t\t\t<td style=\\\"border-right: 1px solid rgb(0, 0, 0); border-left: 1px solid rgb(0, 0, 0); text-align: center; padding-right: 3pt; padding-left: 3pt;\\\">\t\t\t\tWhole Cell<wbr>\t\t\t<td style=\\\"border-right: 1px solid rgb(0, 0, 0); border-left: 1px solid rgb(0, 0, 0); text-align: center; padding-right: 3pt; padding-left: 3pt;\\\">\t\t\t<td style=\\\"border-left: 1px solid rgb(0, 0, 0); padding-right: 3pt; padding-left: 3pt;\\\">\t\t\t\tSaves, compiles, and runs the entirety of the cell contents as a java file.\t\t<tr>\t\t\t<td style=\\\"border-right: 1px solid rgb(0, 0, 0); text-align: right; padding-right: 3pt; padding-left: 3pt;\\\">\t\t\t\t%maven\t\t\t<td style=\\\"border-right: 1px solid rgb(0, 0, 0); border-left: 1px solid rgb(0, 0, 0); text-align: center; padding-right: 3pt; padding-left: 3pt;\\\">\t\t\t\t%maven &lt;NAME:PACKAGE:VERSION&gt;<wbr>\t\t\t<td style=\\\"border-right: 1px solid rgb(0, 0, 0); border-left: 1px solid rgb(0, 0, 0); text-align: center; padding-right: 3pt; padding-left: 3pt;\\\">\t\t\t\tSingle Line\t\t\t<td style=\\\"border-right: 1px solid rgb(0, 0, 0); border-left: 1px solid rgb(0, 0, 0); text-align: center; padding-right: 3pt; padding-left: 3pt;\\\">\t\t\t\t<wbr>\t\t\t<td style=\\\"border-left: 1px solid rgb(0, 0, 0); padding-right: 3pt; padding-left: 3pt;\\\">\t\t\t\tImports the specified dependency using Gradle like specification.\t\t<tr>\t\t\t<td style=\\\"border-right: 1px solid rgb(0, 0, 0); text-align: right; padding-right: 3pt; padding-left: 3pt;\\\">\t\t\t\t%compiled\t\t\t<td style=\\\"border-right: 1px solid rgb(0, 0, 0); border-left: 1px solid rgb(0, 0, 0); text-align: center; padding-right: 3pt; padding-left: 3pt;\\\">\t\t\t<td style=\\\"border-right: 1px solid rgb(0, 0, 0); border-left: 1px solid rgb(0, 0, 0); text-align: center; padding-right: 3pt; padding-left: 3pt;\\\">\t\t\t\tSingle Line\t\t\t<td style=\\\"border-right: 1px solid rgb(0, 0, 0); border-left: 1px solid rgb(0, 0, 0); text-align: center; padding-right: 3pt; padding-left: 3pt;\\\">\t\t\t\tString FILEPATH<wbr>\t\t\t<td style=\\\"border-left: 1px solid rgb(0, 0, 0); padding-right: 3pt; padding-left: 3pt;\\\">\t\t\t\tReturns the path to the latest compiled class file.\t\t<tr>\t\t\t<td style=\\\"border-right: 1px solid rgb(0, 0, 0); text-align: right; padding-right: 3pt; padding-left: 3pt;\\\">\t\t\t\t%cclasses\t\t\t<td style=\\\"border-right: 1px solid rgb(0, 0, 0); border-left: 1px solid rgb(0, 0, 0); text-align: center; padding-right: 3pt; padding-left: 3pt;\\\">\t\t\t<td style=\\\"border-right: 1px solid rgb(0, 0, 0); border-left: 1px solid rgb(0, 0, 0); text-align: center; padding-right: 3pt; padding-left: 3pt;\\\">\t\t\t\tSingle Line\t\t\t<td style=\\\"border-right: 1px solid rgb(0, 0, 0); border-left: 1px solid rgb(0, 0, 0); text-align: center; padding-right: 3pt; padding-left: 3pt;\\\">\t\t\t\tArrayList&lt;String&gt; FILEPATH<wbr>\t\t\t<td style=\\\"border-left: 1px solid rgb(0, 0, 0); padding-right: 3pt; padding-left: 3pt;\\\">\t\t\t\tReturns an ArrayList of all of the compiled class files.\t\t<tr>\t\t\t<td style=\\\"border-right: 1px solid rgb(0, 0, 0); text-align: right; padding-right: 3pt; padding-left: 3pt;\\\">\t\t\t\t%jvm\t\t\t<td style=\\\"border-right: 1px solid rgb(0, 0, 0); border-left: 1px solid rgb(0, 0, 0); text-align: center; padding-right: 3pt; padding-left: 3pt;\\\">\t\t\t\t%jvm &lt;java/java7/java8/android&gt;\t\t\t<td style=\\\"border-right: 1px solid rgb(0, 0, 0); border-left: 1px solid rgb(0, 0, 0); text-align: center; padding-right: 3pt; padding-left: 3pt;\\\">\t\t\t\tSingle Line\t\t\t<td style=\\\"border-right: 1px solid rgb(0, 0, 0); border-left: 1px solid rgb(0, 0, 0); text-align: center; padding-right: 3pt; padding-left: 3pt;\\\">\t\t\t\tString FILEPATH<wbr>\t\t\t<td style=\\\"border-left: 1px solid rgb(0, 0, 0); padding-right: 3pt; padding-left: 3pt;\\\">\t\t\t\tRetrieves the dynamically specified jvm from the sdkman repository.\t\t<tr>\t\t\t<td style=\\\"border-right: 1px solid rgb(0, 0, 0); text-align: right; padding-right: 3pt; padding-left: 3pt;\\\">\t\t\t\t%writeOut\t\t\t<td style=\\\"border-right: 1px solid rgb(0, 0, 0); border-left: 1px solid rgb(0, 0, 0); text-align: center; padding-right: 3pt; padding-left: 3pt;\\\">\t\t\t\t%writeOut &lt;FILEPATH&gt;\t\t\t<td style=\\\"border-right: 1px solid rgb(0, 0, 0); border-left: 1px solid rgb(0, 0, 0); text-align: center; padding-right: 3pt; padding-left: 3pt;\\\">\t\t\t\tWhole Cell\t\t\t<td style=\\\"border-right: 1px solid rgb(0, 0, 0); border-left: 1px solid rgb(0, 0, 0); text-align: center; padding-right: 3pt; padding-left: 3pt;\\\">\t\t\t<td style=\\\"border-left: 1px solid rgb(0, 0, 0); padding-right: 3pt; padding-left: 3pt;\\\">\t\t\t\tWrites the entirety of the cell contents to the specified file path.\t\t<tr>\t\t\t<td style=\\\"border-right: 1px solid rgb(0, 0, 0); text-align: right; padding-right: 3pt; padding-left: 3pt;\\\">\t\t\t\t%system\t\t\t<td style=\\\"border-right: 1px solid rgb(0, 0, 0); border-left: 1px solid rgb(0, 0, 0); text-align: center; padding-right: 3pt; padding-left: 3pt;\\\">\t\t\t\t%system &lt;CMD&gt;<wbr>\t\t\t<td style=\\\"border-right: 1px solid rgb(0, 0, 0); border-left: 1px solid rgb(0, 0, 0); text-align: center; padding-right: 3pt; padding-left: 3pt;\\\">\t\t\t\tSingle Line\t\t\t<td style=\\\"border-right: 1px solid rgb(0, 0, 0); border-left: 1px solid rgb(0, 0, 0); text-align: center; padding-right: 3pt; padding-left: 3pt;\\\">\t\t\t<td style=\\\"border-left: 1px solid rgb(0, 0, 0); padding-right: 3pt; padding-left: 3pt;\\\">\t\t\t\tRuns the specified command via shell and prints the response.\t\t<tr>\t\t\t<td style=\\\"border-right: 1px solid rgb(0, 0, 0); text-align: right; padding-right: 3pt; padding-left: 3pt;\\\">\t\t\t\t%scan | %cryptoguard | %cguard<wbr>\t\t\t<td style=\\\"border-right: 1px solid rgb(0, 0, 0); border-left: 1px solid rgb(0, 0, 0); text-align: center; padding-right: 3pt; padding-left: 3pt;\\\">\t\t\t\t%scan | %cryptoguard | %cguard &lt;FILEPATH&gt;\t\t\t<td style=\\\"border-right: 1px solid rgb(0, 0, 0); border-left: 1px solid rgb(0, 0, 0); text-align: center; padding-right: 3pt; padding-left: 3pt;\\\">\t\t\t\tSingle Line<wbr>\t\t\t<td style=\\\"border-right: 1px solid rgb(0, 0, 0); border-left: 1px solid rgb(0, 0, 0); text-align: center; padding-right: 3pt; padding-left: 3pt;\\\">\t\t\t\tReport REPORTRESULT\t\t\t<td style=\\\"border-left: 1px solid rgb(0, 0, 0); padding-right: 3pt; padding-left: 3pt;\\\">\t\t\t\tScans the Java class passed in and returns the Java Report Structure<wbr>\t\t<tr>\t\t\t<td style=\\\"border-right: 1px solid rgb(0, 0, 0); text-align: right; padding-right: 3pt; padding-left: 3pt;\\\">\t\t\t\t%checkVar\t\t\t<td style=\\\"border-right: 1px solid rgb(0, 0, 0); border-left: 1px solid rgb(0, 0, 0); text-align: center; padding-right: 3pt; padding-left: 3pt;\\\">\t\t\t\t%checkVar &lt;VARIABLENAME&gt;<wbr>\t\t\t<td style=\\\"border-right: 1px solid rgb(0, 0, 0); border-left: 1px solid rgb(0, 0, 0); text-align: center; padding-right: 3pt; padding-left: 3pt;\\\">\t\t\t\tSingle Line<wbr>\t\t\t<td style=\\\"border-right: 1px solid rgb(0, 0, 0); border-left: 1px solid rgb(0, 0, 0); text-align: center; padding-right: 3pt; padding-left: 3pt;\\\">\t\t\t\tString &lt;VARIABLEVALUE&gt;<wbr>\t\t\t<td style=\\\"border-left: 1px solid rgb(0, 0, 0); padding-right: 3pt; padding-left: 3pt;\\\">\t\t\t\tDetermines and returns the value of the variable stored in the kernal session.<wbr></table>\";"
    ]
  },
  {
    "cell_type": "code",
    "execution_count": null,
   "metadata": {
   	"trusted":true,
	"editable":false,
	"deletable":false
   },
    "outputs": [],
    "source": [
      "display(table,\"text/html\");"
    ]
  },
  {
   "cell_type": "markdown",
   "metadata": {
   	"trusted":true,
	"editable":false,
	"deletable":false
   },
   "source": [
    "## Imports"
   ]
  },
  {
   "cell_type": "code",
   "execution_count": null,
   "metadata": {
   	"trusted":true,
	"editable":false,
	"deletable":false
   },
   "outputs": [],
   "source": [
    "// Importing the local CryptoGuard Jar\n",
    "List <String> addedJars = %jars *.jar\n",
    "\n",
    "// Maven Imports\n",
    "%maven junit:junit:4.12\n",
    "%maven commons-io:commons-io:2.7\n",
    "%maven com.binarytweed:quarantining-test-runner:0.0.3\n",
    "\n",
    "// Gradle imports\n",
    "import static org.junit.Assert.assertFalse;\n",
    "import static org.junit.Assert.assertTrue;\n",
    "import static org.junit.Assert.assertEquals;\n",
    "import static org.junit.Assert.assertNull;\n",
    "import static org.junit.Assert.assertNotNull;\n",
    "import static util.Utils.makeArg;\n",
    "import frontEnd.Interface.outputRouting.ExceptionHandler;\n",
    "import frontEnd.Interface.ArgumentsCheck;\n",
    "import frontEnd.MessagingSystem.routing.Listing;\n",
    "import frontEnd.MessagingSystem.routing.EnvironmentInformation;\n",
    "import frontEnd.MessagingSystem.routing.structure.Default.Report;\n",
    "import frontEnd.MessagingSystem.routing.structure.Scarf.AnalyzerReport;\n",
    "import frontEnd.MessagingSystem.routing.structure.Scarf.BugInstance;\n",
    "import frontEnd.Interface.EntryPoint;\n",
    "import frontEnd.argsIdentifier;\n",
    "import rule.engine.EngineType;\n",
    "import util.Utils;\n",
    "import java.io.File;\n",
    "import java.nio.charset.StandardCharsets;\n",
    "import java.nio.file.Files;\n",
    "import java.nio.file.Paths;\n",
    "import java.util.ArrayList;\n",
    "import java.util.Arrays;\n",
    "import java.util.List;\n",
    "import java.util.Scanner;\n",
    "import org.junit.After;\n",
    "import org.junit.Before;\n",
    "import org.junit.Test;\n",
    "import org.junit.runner.RunWith;\n",
    "import org.apache.commons.io.FileUtils;\n",
    "import soot.G;\n",
    "import com.binarytweed.test.Quarantine;\n",
    "import com.binarytweed.test.QuarantiningRunner;\n",
    "import com.fasterxml.jackson.databind.ObjectMapper;\n",
    "import com.fasterxml.jackson.databind.SerializationFeature;\n"
   ]
  },
  {
   "cell_type": "markdown",
   "metadata": {
   	"trusted":true,
	"editable":false,
	"deletable":false
   },
   "source": [
    "## Helpful Utility Functions"
   ]
  },
  {
    "cell_type": "code",
    "execution_count": null,
   "metadata": {
   	"trusted":true,
	"editable":false,
	"deletable":false
   },
    "outputs": [],
    "source": [
     "// region String Display File\n",
     "public static void print(String file) {\n",
     "\ttry {\n",
     "\t\tScanner reader = new Scanner(new File(file));\n",
     "\n",
     "\t\twhile (reader.hasNextLine()) \n",
     "\t\t\tSystem.out.println(reader.nextLine());\n",
     "\t}\n",
     "\tcatch (FileNotFoundException e) {\n",
     "\t}\n",
     "}"
    ]
  },
  {
    "cell_type": "code",
    "execution_count": null,
   "metadata": {
   	"trusted":true,
	   "editable":false,
	   "deletable":false
   },
    "outputs": [],
    "source": [
     "// region String Display\n",
     "public void print(Report currentResults) {\n",
     "\ttry {\n",
     "\t\tObjectMapper mapper = new ObjectMapper();\n",
     "\t\tmapper.enable(SerializationFeature.INDENT_OUTPUT);\n",
     "\t\tString jsonStr = mapper.writerWithDefaultPrettyPrinter().writeValueAsString(currentResults);\n",
     "\t\tSystem.out.println(jsonStr);\n",
     "\t} catch (Exception e) {\n",
     "\t\tSystem.out.println(e);\n",
     "\t}\n",
     "}"
    ]
  },
  {
      "cell_type": "code",
      "execution_count": null,
   "metadata": {
      "trusted":true,
      "editable":false,
      "deletable":false
   },
      "outputs": [],
      "source": [
      "// region String Display\n",
      "public void checkReport(Report currentResults) {\n",
      "\ttry {\n",
      "\t\tSystem.out.println(currentResults.getTarget().getTargetSources());\n",
      "\t\tif (currentResults.getIssues().size() != 0) {\n",
      "\t\t\tthrow new Exception(\"FAILURE: The report shouldn't contain any issues.\");\n",
      "\t\t} else {\n",
      "\t\t\tSystem.out.println(\"SUCCESS: The report doesn't contain any issues.\");\n",
      "\t\t}\n",
      "\t} catch (Exception e) {\n",
      "\t\tSystem.err.println(e);\n",
      "\t}\n",
      "}"
      ]
   },
  {
   "cell_type": "markdown",
   "metadata": {
   	"trusted":true,
	"editable":false,
	"deletable":false
   },
   "source": [
    "* You can find the source code for the [Report here](https://github.com/franceme/cryptoguard/blob/master/src/main/java/frontEnd/MessagingSystem/routing/structure/Default/Report.java)."
   ]
  },
  {
   "cell_type": "markdown",
   "metadata": {
   	"trusted":true,
	"editable":false,
	"deletable":false
   },
   "source": [
    "## Testing Method Setup"
   ]
  },
  {
   "cell_type": "markdown",
   "metadata": {},
   "source": [
    "# Sample Structure"
   ]
  },
  {
   "cell_type": "markdown",
   "metadata": {},
   "source": [
    "## Sample Class being compiled"
   ]
  },
   {
    "cell_type": "code",
    "execution_count": null,
    "metadata": {
     "tags": []
    },
    "outputs": [],
    "source": [
     "%%compile sample.java\n",
     "\n",
     "//Taken From https://github.com/CryptoAPI-Bench/CryptoAPI-Bench/blob/master/src/main/java/org/cryptoapi/bench/brokenhash/BrokenHashABICase10.java\n",
     "\n",
     "import java.security.MessageDigest;\n",
     "import java.security.NoSuchAlgorithmException;\n",
     "\n",
     "public class sample {\n",
     "    public static void main(String [] args) throws NoSuchAlgorithmException {\n",
     "        String str = \"abcdef\";\n",
     "        String crypto = \"MD5\";\n",
     "        method2(str,crypto);\n",
     "    }\n",
     "    public static void method2(String s, String cryptoHash) throws NoSuchAlgorithmException {\n",
     "        String str2 = s;\n",
     "        String hashAlgo = cryptoHash;\n",
     "        method1(str2,hashAlgo);\n",
     "    }\n",
     "    public static void method1(String str, String crypto) throws NoSuchAlgorithmException {\n",
     "        MessageDigest md = MessageDigest.getInstance(crypto);\n",
     "        md.update(str.getBytes());\n",
     "        System.out.println(md.digest());\n",
     "    }\n",
     "}"
    ]
   },
  {
   "cell_type": "markdown",
   "metadata": {},
   "source": [
    "## Java Class Test"
   ]
  },
{
 "cell_type": "code",
 "execution_count": null,
 "metadata": {},
 "outputs": [],
 "source": [
  "String sampleCompiledFile = %compiled\n",
  "Report result_sampleCompiledFile = %cguard sampleCompiledFile\n",
  "print(result_sampleCompiledFile);"
 ]
}
 ],
 "metadata": {
  "kernelspec": {
   "display_name": "Java",
   "language": "java",
   "name": "java"
  },
  "language_info": {
   "codemirror_mode": "java",
   "file_extension": ".jshell",
   "mimetype": "text/x-java-source",
   "name": "Java",
   "pygments_lexer": "java",
   "version": "11.0.7+10"
  }
 },
 "nbformat": 4,
 "nbformat_minor": 4
}
